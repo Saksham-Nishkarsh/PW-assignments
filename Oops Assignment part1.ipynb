{
 "cells": [
  {
   "cell_type": "markdown",
   "id": "501515b1-6750-4a9b-a9a2-f69b8852d1ba",
   "metadata": {},
   "source": [
    "# Assignment Question"
   ]
  },
  {
   "cell_type": "markdown",
   "id": "94e90b72-686d-427e-8d0a-6cf759c4a070",
   "metadata": {},
   "source": [
    "# Q1. Explain Class and Object with respect to Object-Oriented Programming. Give a suitable example."
   ]
  },
  {
   "cell_type": "code",
   "execution_count": 7,
   "id": "ffc45598-5c6c-4911-aa7c-e1e7413dda23",
   "metadata": {},
   "outputs": [],
   "source": [
    "'''In object-oriented programming (OOP), a class is a blueprint or template that defines the structure and behavior of objects. It is a programming construct that encapsulates data and methods (functions) that operate on that data. Classes are used to create objects, which are instances of the class.\n",
    "\n",
    "An object, on the other hand, is an instance of a class. It represents a specific entity or concept and contains its own unique set of data and methods. Objects are created based on the structure defined by the class, and they can interact with each other by invoking methods and accessing each other's data.\n",
    "\n",
    "Let's take an example to illustrate the concept of a class and an object. Consider a class called \"Car\" that represents cars in a car dealership system. The Car class may have attributes like \"make,\" \"model,\" \"color,\" and \"price.\" It can also have methods such as \"start_engine,\" \"accelerate,\" and \"brake.'''\n",
    "\n",
    "class Car:\n",
    "    def __init__(self, make, model, color, price):\n",
    "        self.make = make\n",
    "        self.model = model\n",
    "        self.color = color\n",
    "        self.price = price\n",
    "    \n",
    "    def cars_details(self):\n",
    "        return self.make, self.model, self.color, self.price\n"
   ]
  },
  {
   "cell_type": "code",
   "execution_count": 8,
   "id": "5d5b49c4-7b4e-4a84-b0f8-219a5989be31",
   "metadata": {},
   "outputs": [],
   "source": [
    "car1 = Car(\"Toyota\", \"Camry\", \"Red\", 25000)\n",
    "car2 = Car(\"Honda\", \"Civic\", \"Blue\", 22000)\n"
   ]
  },
  {
   "cell_type": "code",
   "execution_count": 11,
   "id": "ef1dee67-f653-49bb-ba20-82b36107a0cb",
   "metadata": {},
   "outputs": [
    {
     "data": {
      "text/plain": [
       "('Toyota', 'Camry', 'Red', 25000)"
      ]
     },
     "execution_count": 11,
     "metadata": {},
     "output_type": "execute_result"
    }
   ],
   "source": [
    "car1.cars_details()\n"
   ]
  },
  {
   "cell_type": "code",
   "execution_count": 12,
   "id": "6b0aebb4-5c63-4213-a9c6-4ca4bb63b98d",
   "metadata": {},
   "outputs": [
    {
     "data": {
      "text/plain": [
       "('Honda', 'Civic', 'Blue', 22000)"
      ]
     },
     "execution_count": 12,
     "metadata": {},
     "output_type": "execute_result"
    }
   ],
   "source": [
    "car2.cars_details()"
   ]
  },
  {
   "cell_type": "markdown",
   "id": "ab40ed70-d1c4-4c89-b91a-ad709b8dbefa",
   "metadata": {},
   "source": [
    "# Q2. Name the four pillars of OOPs."
   ]
  },
  {
   "cell_type": "code",
   "execution_count": 13,
   "id": "7b51d7fe-9786-4fb3-a1c3-05982be2f3f6",
   "metadata": {},
   "outputs": [
    {
     "data": {
      "text/plain": [
       "' The four pillars of object-oriented programming (OOP) are:\\n1. Encapsulation\\n2. Inheritance\\n3. Polymorphism\\n4. Abstraction '"
      ]
     },
     "execution_count": 13,
     "metadata": {},
     "output_type": "execute_result"
    }
   ],
   "source": [
    "''' The four pillars of object-oriented programming (OOP) are:\n",
    "1. Encapsulation\n",
    "2. Inheritance\n",
    "3. Polymorphism\n",
    "4. Abstraction '''"
   ]
  },
  {
   "cell_type": "markdown",
   "id": "c70f53ea-db82-4874-896c-90117e9a38be",
   "metadata": {},
   "source": [
    "# Q3. Explain why the __init__() function is used. Give a suitable example."
   ]
  },
  {
   "cell_type": "code",
   "execution_count": 15,
   "id": "009d39c9-c907-43af-a4f8-b9344ea0cfcd",
   "metadata": {},
   "outputs": [
    {
     "name": "stdout",
     "output_type": "stream",
     "text": [
      "Hello, my name is John and I am 25 years old.\n",
      "Hello, my name is Emma and I am 30 years old.\n"
     ]
    }
   ],
   "source": [
    "''' The __init__() function, also known as the constructor, is used in object-oriented programming to initialize the attributes of an object when it is created from a class. It is a special method that is automatically called when an object is instantiated.\n",
    "\n",
    "The primary purpose of the __init__() function is to set the initial state of an object by assigning values to its attributes. It allows us to specify the values of attributes at the time of object creation, ensuring that the object starts with the desired initial values.'''\n",
    "\n",
    "\n",
    "class Person:\n",
    "    def __init__(self, name, age):\n",
    "        self.name = name\n",
    "        self.age = age\n",
    "\n",
    "    def introduce(self):\n",
    "        print(f\"Hello, my name is {self.name} and I am {self.age} years old.\")\n",
    "\n",
    "# Creating objects and initializing attributes using __init__()\n",
    "\n",
    "person1 = Person(\"John\", 25)\n",
    "person2 = Person(\"Emma\", 30)\n",
    "\n",
    "person1.introduce()  # Output: Hello, my name is John and I am 25 years old.\n",
    "person2.introduce()  # Output: Hello, my name is Emma and I am 30 years old.\n"
   ]
  },
  {
   "cell_type": "markdown",
   "id": "67eec423-5dd7-41bb-8b16-d6995af8f12d",
   "metadata": {},
   "source": [
    "# Q4. Why self is used in OOPs?"
   ]
  },
  {
   "cell_type": "code",
   "execution_count": 16,
   "id": "5cfbcff1-98bd-432a-90dd-46ca81165f7c",
   "metadata": {},
   "outputs": [
    {
     "data": {
      "text/plain": [
       "' In object-oriented programming (OOP), the self keyword is used to refer to the instance of a class within its own methods. It acts as a reference to the current object or instance that the method is being called on.\\n\\nThe use of self is important because it allows access to the attributes and methods of the object within its own scope. It enables object-oriented languages to differentiate between instance variables (attributes specific to each object) and local variables (variables specific to a particular method).\\n\\nWhen a method is called on an object, the self parameter is implicitly passed as the first argument. By convention, it is named self in most object-oriented languages (such as Python). However, the name itself is not significant; it is a widely followed convention to enhance code readability.'"
      ]
     },
     "execution_count": 16,
     "metadata": {},
     "output_type": "execute_result"
    }
   ],
   "source": [
    "''' In object-oriented programming (OOP), the self keyword is used to refer to the instance of a class within its own methods. It acts as a reference to the current object or instance that the method is being called on.\n",
    "\n",
    "The use of self is important because it allows access to the attributes and methods of the object within its own scope. It enables object-oriented languages to differentiate between instance variables (attributes specific to each object) and local variables (variables specific to a particular method).\n",
    "\n",
    "When a method is called on an object, the self parameter is implicitly passed as the first argument. By convention, it is named self in most object-oriented languages (such as Python). However, the name itself is not significant; it is a widely followed convention to enhance code readability.'''"
   ]
  },
  {
   "cell_type": "markdown",
   "id": "5d9e09c7-9752-43dc-8bbc-011dc4325d8c",
   "metadata": {},
   "source": [
    "# Q5. What is inheritance? Give an example for each type of inheritance."
   ]
  },
  {
   "cell_type": "code",
   "execution_count": 17,
   "id": "0a6217fa-3fd9-4d13-91d7-babec87d32cf",
   "metadata": {},
   "outputs": [
    {
     "name": "stdout",
     "output_type": "stream",
     "text": [
      "Animal is eating.\n",
      "Dog is barking.\n",
      "Vehicle is driving.\n",
      "Car is honking.\n",
      "Sports car is accelerating.\n",
      "Animal is eating.\n",
      "Dog is barking.\n",
      "Labrador is fetching.\n"
     ]
    }
   ],
   "source": [
    "''' Inheritance is a fundamental concept in object-oriented programming (OOP) that allows a class to inherit attributes and methods from another class. It establishes a relationship between classes where one class, called the child or subclass, derives properties and behaviors from another class, called the parent or superclass.\n",
    "\n",
    "Inheritance promotes code reuse, extensibility, and the concept of \"is-a\" relationship, where a subclass is considered to be a specialized type of the superclass. The subclass inherits all the public and protected attributes and methods of the superclass and can also define its own unique attributes and methods.\n",
    "\n",
    "There are different types of inheritance in OOP, including:\n",
    "\n",
    "Single Inheritance: In single inheritance, a class inherits from a single superclass. It represents a one-to-one relationship between classes.'''\n",
    "\n",
    "class Animal:\n",
    "    def eat(self):\n",
    "        print(\"Animal is eating.\")\n",
    "\n",
    "class Dog(Animal):\n",
    "    def bark(self):\n",
    "        print(\"Dog is barking.\")\n",
    "\n",
    "# Dog inherits from Animal\n",
    "dog = Dog()\n",
    "dog.eat()   # Output: Animal is eating.\n",
    "dog.bark()  # Output: Dog is barking.\n",
    "\n",
    "''' Multiple Inheritance: Multiple inheritance allows a class to inherit from more than one superclass. It represents a one-to-many relationship between classes.'''\n",
    "\n",
    "class Vehicle:\n",
    "    def drive(self):\n",
    "        print(\"Vehicle is driving.\")\n",
    "\n",
    "class Car:\n",
    "    def honk(self):\n",
    "        print(\"Car is honking.\")\n",
    "\n",
    "class SportsCar(Vehicle, Car):\n",
    "    def accelerate(self):\n",
    "        print(\"Sports car is accelerating.\")\n",
    "\n",
    "# SportsCar inherits from both Vehicle and Car\n",
    "sports_car = SportsCar()\n",
    "sports_car.drive()    # Output: Vehicle is driving.\n",
    "sports_car.honk()     # Output: Car is honking.\n",
    "sports_car.accelerate()  # Output: Sports car is accelerating.\n",
    "\n",
    "''' Multilevel Inheritance: Multilevel inheritance involves a chain of inheritance where a subclass inherits from another subclass. It represents a hierarchical relationship between classes.'''\n",
    "\n",
    "class Animal:\n",
    "    def eat(self):\n",
    "        print(\"Animal is eating.\")\n",
    "\n",
    "class Dog(Animal):\n",
    "    def bark(self):\n",
    "        print(\"Dog is barking.\")\n",
    "\n",
    "class Labrador(Dog):\n",
    "    def fetch(self):\n",
    "        print(\"Labrador is fetching.\")\n",
    "\n",
    "# Labrador inherits from Dog, which inherits from Animal\n",
    "labrador = Labrador()\n",
    "labrador.eat()    # Output: Animal is eating.\n",
    "labrador.bark()   # Output: Dog is barking.\n",
    "labrador.fetch()  # Output: Labrador is fetching.\n"
   ]
  },
  {
   "cell_type": "code",
   "execution_count": null,
   "id": "3f14ae26-8b46-4b04-8aea-3d16ef038436",
   "metadata": {},
   "outputs": [],
   "source": []
  }
 ],
 "metadata": {
  "kernelspec": {
   "display_name": "Python 3 (ipykernel)",
   "language": "python",
   "name": "python3"
  },
  "language_info": {
   "codemirror_mode": {
    "name": "ipython",
    "version": 3
   },
   "file_extension": ".py",
   "mimetype": "text/x-python",
   "name": "python",
   "nbconvert_exporter": "python",
   "pygments_lexer": "ipython3",
   "version": "3.10.8"
  }
 },
 "nbformat": 4,
 "nbformat_minor": 5
}
