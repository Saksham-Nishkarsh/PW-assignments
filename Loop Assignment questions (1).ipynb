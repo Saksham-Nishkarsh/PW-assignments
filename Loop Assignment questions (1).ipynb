{
 "cells": [
  {
   "cell_type": "markdown",
   "id": "92cee66d-8191-44c7-8ef3-b2e2f916a99b",
   "metadata": {},
   "source": [
    "Assignment Questions Loop"
   ]
  },
  {
   "cell_type": "markdown",
   "id": "4f9f21ec-50d0-4dbd-8755-683c7e3c42eb",
   "metadata": {},
   "source": [
    "#Q1. Explain with an example each when to use a for loop and a while loop."
   ]
  },
  {
   "cell_type": "code",
   "execution_count": 14,
   "id": "d1677013-28c0-4d56-91db-3cfa6e2c760c",
   "metadata": {},
   "outputs": [
    {
     "name": "stdout",
     "output_type": "stream",
     "text": [
      "15\n"
     ]
    },
    {
     "name": "stdin",
     "output_type": "stream",
     "text": [
      "Please enter a positive integer:  4\n"
     ]
    },
    {
     "name": "stdout",
     "output_type": "stream",
     "text": [
      "You entered: 4\n"
     ]
    }
   ],
   "source": [
    "'''Ans: A for loop is typically used when you know the number of iterations you need to perform, whereas a while loop is useful when you don't know how many times you will need to iterate.\n",
    "\n",
    "Here are some examples:\n",
    "\n",
    "Example of when to use a for loop:\n",
    "Suppose you have a list of integers and you want to find the sum of all the elements in the list. Since you know the size of the list, you can use a for loop to iterate through each element and add it to a running total. Here's some Python code that demonstrates this:'''\n",
    "\n",
    "my_list = [1, 2, 3, 4, 5]\n",
    "total = 0\n",
    "\n",
    "for num in my_list:\n",
    "    total += num\n",
    "\n",
    "print(total)\n",
    "\n",
    "'''In this example, we use a for loop to iterate over each element of the list my_list and add it to the variable total.\n",
    "\n",
    "Example of when to use a while loop:\n",
    "Suppose you are writing a program that prompts the user to enter a positive integer and keeps prompting them until they enter a valid input. Since you don't know how many times the user will enter an invalid input, a while loop is a good choice for this task. Here's some Python code that demonstrates this:'''\n",
    "\n",
    "num = -1\n",
    "\n",
    "while num < 0:\n",
    "    num = int(input(\"Please enter a positive integer: \"))\n",
    "\n",
    "print(\"You entered:\", num)\n",
    "\n",
    "#In this example, we use a while loop to keep prompting the user to enter a positive integer until they actually do so. The loop continues as long as the user enters a negative number, which is checked in the condition of the while loop. Once the user enters a positive number, the loop exits and the program continues with the rest of the code.\n"
   ]
  },
  {
   "cell_type": "markdown",
   "id": "fbeee19d-222d-483d-bb5d-1a4ce3cc3cd7",
   "metadata": {},
   "source": [
    "Q2. Write a python program to print the sum and product of the first 10 natural numbers using for\n",
    "and while loop."
   ]
  },
  {
   "cell_type": "code",
   "execution_count": 8,
   "id": "6b33640e-8f45-4212-8164-89387210c761",
   "metadata": {},
   "outputs": [
    {
     "name": "stdout",
     "output_type": "stream",
     "text": [
      "Sum of first 10 natural numbers: 55\n",
      "Product of first 10 natural numbers: 3628800\n"
     ]
    }
   ],
   "source": [
    "#Ans:\n",
    "# 1 Using for Loop\n",
    "x = 0\n",
    "y = 1\n",
    "\n",
    "for i in range(1, 11):\n",
    "    x += i\n",
    "    y *= i\n",
    "\n",
    "print(\"Sum of first 10 natural numbers:\", x)\n",
    "print(\"Product of first 10 natural numbers:\", y)\n"
   ]
  },
  {
   "cell_type": "code",
   "execution_count": 2,
   "id": "62f8d295-d47f-4070-849f-d4cc5aa94fb1",
   "metadata": {},
   "outputs": [
    {
     "name": "stdout",
     "output_type": "stream",
     "text": [
      "Sum of first 10 natural numbers: 55\n",
      "Product of first 10 natural numbers: 3628800\n"
     ]
    }
   ],
   "source": [
    "#Ans Using while loop\n",
    "\n",
    "x = 0\n",
    "y = 1\n",
    "i = 1\n",
    "\n",
    "while i <= 10:\n",
    "    x += i\n",
    "    y *= i\n",
    "    i += 1\n",
    "\n",
    "print(\"Sum of first 10 natural numbers:\", x)\n",
    "print(\"Product of first 10 natural numbers:\", y)"
   ]
  },
  {
   "cell_type": "raw",
   "id": "94b102ca-c57d-47aa-bdff-f0617c73cf8d",
   "metadata": {},
   "source": [
    "Q3. Create a python program to compute the electricity bill for a household.\n",
    "\n",
    "The per-unit charges in rupees are as follows: For the first 100 units, the user will be charged Rs. 4.5 per\n",
    "unit, for the next 100 units, the user will be charged Rs. 6 per unit, and for the next 100 units, the user will\n",
    "be charged Rs. 10 per unit, After 300 units and above the user will be charged Rs. 20 per unit.\n",
    "\n",
    "You are required to take the units of electricity consumed in a month from the user as input.\n",
    "\n",
    "Your program must pass this test case: when the unit of electricity consumed by the user in a month is\n",
    "310, the total electricity bill should be 2250."
   ]
  },
  {
   "cell_type": "code",
   "execution_count": 7,
   "id": "4e611879-2f41-407f-bb09-50b7f05b7a28",
   "metadata": {},
   "outputs": [
    {
     "name": "stdin",
     "output_type": "stream",
     "text": [
      "Enter the unit consumed this month:  310\n"
     ]
    },
    {
     "name": "stdout",
     "output_type": "stream",
     "text": [
      "Your Electricity Bill amount is 2250.0\n"
     ]
    }
   ],
   "source": [
    "Units = int(input(\"Enter the unit consumed this month: \"))\n",
    "\n",
    "if Units <= 100:\n",
    "    y = 4.5 * Units\n",
    "    print(\"Your Electricity Bill amount is\", y)\n",
    "    \n",
    "elif Units <= 200:\n",
    "    y = 4.5 * 100\n",
    "    z = 6 * (Units - 100)\n",
    "    print(\"Your Electricity Bill amount is\", y + z)\n",
    "    \n",
    "elif Units <= 300:\n",
    "    y = 4.5 * 100\n",
    "    z = 6 * 100\n",
    "    a = 10 * (Units - 200)\n",
    "    print(\"Your Electricity Bill amount is\", y + z + a)\n",
    "    \n",
    "else:\n",
    "    y = 4.5 * 100\n",
    "    z = 6 * 100\n",
    "    a = 10 * 100\n",
    "    b = 20 * (Units - 300)\n",
    "    print(\"Your Electricity Bill amount is\", y + z + a + b)\n",
    "\n",
    "        \n",
    "    "
   ]
  },
  {
   "cell_type": "markdown",
   "id": "c2d20732-f7fc-45a4-a046-0c25db5d45b3",
   "metadata": {},
   "source": [
    "Q4. Create a list of numbers from 1 to 100. Use for loop and while loop to calculate the cube of each\n",
    "number and if the cube of that number is divisible by 4 or 5 then append that number in a list and print\n",
    "that list."
   ]
  },
  {
   "cell_type": "code",
   "execution_count": 12,
   "id": "b3c99faa-559e-42e3-be09-299f588f6e6c",
   "metadata": {},
   "outputs": [
    {
     "name": "stdout",
     "output_type": "stream",
     "text": [
      "[10, 20, 30, 40, 50, 60, 70, 80, 90, 100]\n"
     ]
    }
   ],
   "source": [
    "# Using For Loop\n",
    "numbers = []\n",
    "for i in range(1,101):\n",
    "    if i**3 % 4 == 0 and i**3 % 5 == 0:\n",
    "        numbers.append(i)\n",
    "        \n",
    "print(numbers)\n",
    "    "
   ]
  },
  {
   "cell_type": "code",
   "execution_count": 13,
   "id": "a05de625-b289-4892-87ad-f1f03b830730",
   "metadata": {},
   "outputs": [
    {
     "name": "stdout",
     "output_type": "stream",
     "text": [
      "[10, 20, 30, 40, 50, 60, 70, 80, 90, 100]\n"
     ]
    }
   ],
   "source": [
    "# Using While Loop\n",
    "\n",
    "numbers = []\n",
    "i = 0\n",
    "\n",
    "while i <= 100:\n",
    "    i += 1\n",
    "    if i**3 % 4 == 0 and i**3 % 5 == 0:\n",
    "        numbers.append(i)\n",
    "        \n",
    "print(numbers)"
   ]
  },
  {
   "cell_type": "raw",
   "id": "495fa6d9-1118-481d-abad-bf28314897ff",
   "metadata": {},
   "source": [
    "Q5. Write a program to filter count vowels in the below-given string.\n",
    "string = \"I want to become a data scientist\""
   ]
  },
  {
   "cell_type": "code",
   "execution_count": 20,
   "id": "ef1122aa-0df4-46be-89cf-4d2a10e1fae3",
   "metadata": {},
   "outputs": [
    {
     "name": "stdout",
     "output_type": "stream",
     "text": [
      "['a', 'o', 'e', 'o', 'e', 'a', 'a', 'a', 'i', 'e', 'i']\n"
     ]
    }
   ],
   "source": [
    "s = \"I want to become a data scientist\"\n",
    "l = []\n",
    "v = ['a','e','i','o','u']\n",
    "\n",
    "for i in s:\n",
    "    if i in v:\n",
    "        l.append(i)\n",
    "print(l)\n",
    "        "
   ]
  },
  {
   "cell_type": "code",
   "execution_count": null,
   "id": "226ae535-ab2d-4bb2-aada-9c920b533c1a",
   "metadata": {},
   "outputs": [],
   "source": []
  }
 ],
 "metadata": {
  "kernelspec": {
   "display_name": "Python 3 (ipykernel)",
   "language": "python",
   "name": "python3"
  },
  "language_info": {
   "codemirror_mode": {
    "name": "ipython",
    "version": 3
   },
   "file_extension": ".py",
   "mimetype": "text/x-python",
   "name": "python",
   "nbconvert_exporter": "python",
   "pygments_lexer": "ipython3",
   "version": "3.10.8"
  }
 },
 "nbformat": 4,
 "nbformat_minor": 5
}
