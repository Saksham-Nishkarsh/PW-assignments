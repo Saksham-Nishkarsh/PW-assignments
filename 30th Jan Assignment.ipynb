{
 "cells": [
  {
   "cell_type": "markdown",
   "id": "a217beca-2172-4fae-936d-24ba23d32f0d",
   "metadata": {},
   "source": [
    "# Q1 Write a program to accept percentage frm the user and display the grade according to the following criteria: "
   ]
  },
  {
   "cell_type": "code",
   "execution_count": 2,
   "id": "7ef97976-91f3-4982-8ac5-d6ecfbbf2e17",
   "metadata": {},
   "outputs": [
    {
     "name": "stdin",
     "output_type": "stream",
     "text": [
      "Enter your percenntage 97\n"
     ]
    },
    {
     "name": "stdout",
     "output_type": "stream",
     "text": [
      " Grade A\n"
     ]
    }
   ],
   "source": [
    "n = int(input(\"Enter your percenntage\"))\n",
    "\n",
    "        \n",
    "if n > 90:\n",
    "    print(\" Grade A\")\n",
    "elif n <= 90 and n > 80:\n",
    "    print(\"Grade B\")\n",
    "elif n <= 80 and n >= 60:\n",
    "    print(\"Grade C\")\n",
    "else:\n",
    "    print(\" Grade D\")"
   ]
  },
  {
   "cell_type": "markdown",
   "id": "77c7fd21-d66b-4a65-8f01-a4a3d42cd8a8",
   "metadata": {},
   "source": [
    "# Q2 Write a program to accept thhe cost price of a bike and display the road tax to be paid according to following criteria:"
   ]
  },
  {
   "cell_type": "code",
   "execution_count": 3,
   "id": "1062e01d-9e47-484c-a619-8e96f47a2878",
   "metadata": {},
   "outputs": [
    {
     "name": "stdin",
     "output_type": "stream",
     "text": [
      "Enter Cost Price 1500000\n"
     ]
    },
    {
     "name": "stdout",
     "output_type": "stream",
     "text": [
      "Tax = 225000.0\n"
     ]
    }
   ],
   "source": [
    "c = int(input(\"Enter Cost Price\"))\n",
    "\n",
    "        \n",
    "if c > 100000:\n",
    "    tax_amount = (15 * c)/100\n",
    "    print(\"Tax\", \"=\", tax_amount)\n",
    "elif c <= 100000 and c > 50000:\n",
    "    tax_amount = (10 * c)/100\n",
    "    print(\"Tax\", \"=\", tax_amount)\n",
    "else:\n",
    "    tax_amount = (5 * c)/100\n",
    "    print(\"Tax\", \"=\", tax_amount)"
   ]
  },
  {
   "cell_type": "markdown",
   "id": "5392cda9-cbad-452d-a839-b7fdba7dfeb1",
   "metadata": {},
   "source": [
    "# Q3. Accept any city from the user and display monuments of that city."
   ]
  },
  {
   "cell_type": "code",
   "execution_count": 5,
   "id": "e5a1ba9b-6288-473c-9d3f-87ba8f25c62f",
   "metadata": {},
   "outputs": [
    {
     "name": "stdin",
     "output_type": "stream",
     "text": [
      "Enter your city from Delhi, Agra, Jaipur delhi\n"
     ]
    },
    {
     "name": "stdout",
     "output_type": "stream",
     "text": [
      "Famous monument is Red Fort\n"
     ]
    }
   ],
   "source": [
    "city = input(\"Enter your city from Delhi, Agra, Jaipur\")\n",
    "\n",
    "if city == 'Delhi' or city == 'delhi':\n",
    "    print(\"Famous monument is Red Fort\")\n",
    "elif city == 'Agra' or city == 'agra':\n",
    "    print(\"Famous monument is Taj Mahal\")\n",
    "elif city == 'Jaipur' or city == 'jaipur':\n",
    "    print(\"Famous monument is Jal Mahal\")"
   ]
  },
  {
   "cell_type": "markdown",
   "id": "d533ed52-1da6-4c76-a2f4-c466dd148c7f",
   "metadata": {},
   "source": [
    "# Q4. Check how many times a given number can be divided by 3 before it is less than or equal to 10"
   ]
  },
  {
   "cell_type": "code",
   "execution_count": 2,
   "id": "d110dce2-f548-4285-9dcf-7f5e5bce85f5",
   "metadata": {},
   "outputs": [
    {
     "name": "stdin",
     "output_type": "stream",
     "text": [
      "Enter a number:  130\n"
     ]
    },
    {
     "name": "stdout",
     "output_type": "stream",
     "text": [
      "The given number can be divided by 3 3 times before it is less than or equal to 10.\n"
     ]
    }
   ],
   "source": [
    "number = int(input(\"Enter a number: \"))\n",
    "count = 0\n",
    "\n",
    "while number > 10:\n",
    "    number /= 3\n",
    "    count += 1\n",
    "\n",
    "print(\"The given number can be divided by 3\", count, \"times before it is less than or equal to 10.\")\n",
    "\n",
    "            \n",
    "            "
   ]
  },
  {
   "cell_type": "markdown",
   "id": "f194422e-1fcd-407c-9ef8-0d57db18523b",
   "metadata": {},
   "source": [
    "# Q5. Why and When to Use while Loop in Python give a detailed description with example."
   ]
  },
  {
   "cell_type": "code",
   "execution_count": 1,
   "id": "51d6f99c-d1e2-494e-9a1b-13ff17c27440",
   "metadata": {},
   "outputs": [
    {
     "name": "stdout",
     "output_type": "stream",
     "text": [
      "1\n",
      "2\n",
      "3\n",
      "4\n",
      "5\n"
     ]
    },
    {
     "data": {
      "text/plain": [
       "\" The while loop continues executing the code block until the condition num <= 5 becomes false. It repeats the printing and incrementing process five times, printing the numbers 1 to 5.\\n\\nIt's important to ensure that the condition in a while loop eventually becomes false; otherwise, the loop will run indefinitely, resulting in an infinite loop. To avoid infinite loops, make sure the condition is updated inside the loop or provide an exit condition that will eventually be met. \""
      ]
     },
     "execution_count": 1,
     "metadata": {},
     "output_type": "execute_result"
    }
   ],
   "source": [
    "''' \n",
    "The while loop is a control flow statement in Python that allows you to repeatedly execute a block of code as long as a certain condition is true. It provides a way to create iterative processes and automate repetitive tasks. The loop continues executing the code block until the condition becomes false.'''\n",
    "\n",
    "\n",
    "''' we would use a while loop in Python when you need to repeat a set of instructions or perform a task multiple times until a specific condition is met. This is useful in scenarios where you don't know in advance how many times the code should be executed, or when you want to keep iterating until a certain state or result is achieved.'''\n",
    "\n",
    "# Print numbers from 1 to 5 using a while loop\n",
    "num = 1\n",
    "while num <= 5:\n",
    "    print(num)\n",
    "    num += 1\n",
    "\n",
    "''' The while loop continues executing the code block until the condition num <= 5 becomes false. It repeats the printing and incrementing process five times, printing the numbers 1 to 5.\n",
    "\n",
    "It's important to ensure that the condition in a while loop eventually becomes false; otherwise, the loop will run indefinitely, resulting in an infinite loop. To avoid infinite loops, make sure the condition is updated inside the loop or provide an exit condition that will eventually be met. '''\n",
    "\n",
    "\n",
    "\n",
    "\n",
    "\n"
   ]
  },
  {
   "cell_type": "markdown",
   "id": "7eaaf1a8-92d7-4640-9aa8-fede62648118",
   "metadata": {},
   "source": [
    "# Q6. Use nested while loop to print 3 different pattern."
   ]
  },
  {
   "cell_type": "code",
   "execution_count": 1,
   "id": "d1d6c98f-e26a-4ec6-93c0-4c8b6eb982bf",
   "metadata": {},
   "outputs": [
    {
     "name": "stdout",
     "output_type": "stream",
     "text": [
      "*\n",
      "**\n",
      "***\n",
      "****\n",
      "*****\n"
     ]
    }
   ],
   "source": [
    "# Pattern 1\n",
    "\n",
    "row = 1\n",
    "while row <= 5:\n",
    "    col = 1\n",
    "    while col <= row:\n",
    "        print(\"*\", end=\"\")\n",
    "        col += 1\n",
    "    print()\n",
    "    row += 1\n"
   ]
  },
  {
   "cell_type": "code",
   "execution_count": 2,
   "id": "5c67d110-6b67-4e6f-b0b3-b590ab4b53f1",
   "metadata": {},
   "outputs": [
    {
     "name": "stdout",
     "output_type": "stream",
     "text": [
      "12345\n",
      "1234\n",
      "123\n",
      "12\n",
      "1\n"
     ]
    }
   ],
   "source": [
    "# Pattern 2\n",
    "\n",
    "row = 5\n",
    "while row >= 1:\n",
    "    col = 1\n",
    "    while col <= row:\n",
    "        print(col, end=\"\")\n",
    "        col += 1\n",
    "    print()\n",
    "    row -= 1\n"
   ]
  },
  {
   "cell_type": "code",
   "execution_count": 3,
   "id": "1b0d9420-c31a-497c-9338-86ac46fe729f",
   "metadata": {},
   "outputs": [
    {
     "name": "stdout",
     "output_type": "stream",
     "text": [
      "1\n",
      "22\n",
      "333\n",
      "4444\n",
      "55555\n"
     ]
    }
   ],
   "source": [
    "# Pattern 3\n",
    "\n",
    "row = 1\n",
    "while row <= 5:\n",
    "    col = 1\n",
    "    while col <= row:\n",
    "        print(row, end=\"\")\n",
    "        col += 1\n",
    "    print()\n",
    "    row += 1\n"
   ]
  },
  {
   "cell_type": "markdown",
   "id": "e372b0b7-4eb5-4e0a-b8ff-000259a8930f",
   "metadata": {},
   "source": [
    "# Q.7 Reverse a while loop to display number from 10 to 1."
   ]
  },
  {
   "cell_type": "code",
   "execution_count": null,
   "id": "56ee1667-242a-4cf0-accf-181b90dc4a8b",
   "metadata": {},
   "outputs": [],
   "source": [
    "num = 10\n",
    "\n",
    "while num >= 0:\n",
    "    pr"
   ]
  }
 ],
 "metadata": {
  "kernelspec": {
   "display_name": "Python 3 (ipykernel)",
   "language": "python",
   "name": "python3"
  },
  "language_info": {
   "codemirror_mode": {
    "name": "ipython",
    "version": 3
   },
   "file_extension": ".py",
   "mimetype": "text/x-python",
   "name": "python",
   "nbconvert_exporter": "python",
   "pygments_lexer": "ipython3",
   "version": "3.10.8"
  }
 },
 "nbformat": 4,
 "nbformat_minor": 5
}
