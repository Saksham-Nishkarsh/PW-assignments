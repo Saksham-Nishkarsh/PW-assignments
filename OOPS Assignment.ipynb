{
 "cells": [
  {
   "cell_type": "markdown",
   "id": "d36a0585-2531-45b5-87fc-b5ce5c63d261",
   "metadata": {},
   "source": [
    "# Q1. What is Abstraction in OOps? Explain with an example."
   ]
  },
  {
   "cell_type": "code",
   "execution_count": 1,
   "id": "e874dc43-f423-493d-9a0a-720368d77745",
   "metadata": {},
   "outputs": [],
   "source": [
    "'''Abstraction in object-oriented programming (OOP) is the concept of simplifying complex systems by focusing on the essential details and hiding unnecessary implementation details. It allows us to create a blueprint or a model of an object that includes only the relevant attributes and behaviors, while hiding the internal workings.\n",
    "\n",
    "An example of abstraction can be seen with a car. When you interact with a car, you don't need to know the intricate details of how the engine works or how the transmission shifts gears. Instead, you can focus on using the car's essential features such as steering, accelerating, and braking. In this scenario, the car acts as an abstraction of a complex system, providing a simplified interface for users.\n",
    "\n",
    "In OOP, abstraction is implemented through classes and objects. A class defines the abstract blueprint that represents a concept, while objects are instances of the class that can be created and used in the program. By encapsulating the internal details and exposing only the necessary methods and properties, abstraction allows programmers to work with simplified and manageable objects, promoting code reusability and modularity.'''\n",
    "\n",
    "\n",
    "import abc\n",
    "class pwskills:\n",
    "    \n",
    "    @abc.abstractmethod\n",
    "    def students_detaiils(self):\n",
    "        pass\n",
    "    \n",
    "    @abc.abstractmethod\n",
    "    def student_assignment(self):\n",
    "        pass\n",
    "    \n",
    "    @abc.abstractmethod\n",
    "    def student_marks(self):\n",
    "        pass\n",
    "    "
   ]
  },
  {
   "cell_type": "code",
   "execution_count": 2,
   "id": "b2292864-13e1-468a-ab01-66148a0028a1",
   "metadata": {},
   "outputs": [],
   "source": [
    "class data_science_master(pwskills):\n",
    "    \n",
    "    def students_details(self):\n",
    "        return \"this will return a student details for data science masters\"\n",
    "    \n",
    "    def student_assignment(self):\n",
    "        return \"this will give you a student assignmentt details for data science masters\""
   ]
  },
  {
   "cell_type": "code",
   "execution_count": 3,
   "id": "bc9be93f-244b-45df-b278-0a10ce909a90",
   "metadata": {},
   "outputs": [
    {
     "data": {
      "text/plain": [
       "'this will return a student details for data science masters'"
      ]
     },
     "execution_count": 3,
     "metadata": {},
     "output_type": "execute_result"
    }
   ],
   "source": [
    "dsm = data_science_master()\n",
    "dsm.students_details()"
   ]
  },
  {
   "cell_type": "markdown",
   "id": "2d1d304b-892e-4ef6-8f40-a9551626b64c",
   "metadata": {},
   "source": [
    "# Q2. Differentiate between Abstraction and Encapsulation. Explain with an example."
   ]
  },
  {
   "cell_type": "code",
   "execution_count": 4,
   "id": "4b4c107f-3eb3-4840-91db-aaa6714f898e",
   "metadata": {},
   "outputs": [
    {
     "data": {
      "text/plain": [
       "'Abstraction and encapsulation are two important concepts in object-oriented programming (OOP), but they serve different purposes.\\n\\nAbstraction focuses on providing a simplified and generalized view of an object or system by hiding unnecessary details. It allows us to define essential attributes and behaviors while ignoring the implementation specifics. Abstraction is achieved through classes and objects, where a class represents an abstract blueprint, and objects are instances of that class. An example of abstraction is a car, where users interact with its essential features like steering, accelerating, and braking, without needing to understand the internal mechanisms of the engine or transmission.\\n\\nEncapsulation, on the other hand, is about bundling data and methods together within a class, and controlling access to them through the use of access modifiers. It ensures that the internal state of an object is accessed and modified only through defined methods, protecting the data from unwanted external interference. Encapsulation provides data hiding and promotes data integrity. For example, in a class representing a bank account, the account balance would be a private data member, accessible only through specific methods like deposit and withdraw. This encapsulation ensures that the balance is maintained correctly and prevents direct manipulation by external code.\\n\\nIn summary, abstraction focuses on simplifying and generalizing the view of an object or system, while encapsulation deals with bundling data and methods together and controlling their access. Abstraction is about hiding unnecessary details, while encapsulation is about protecting and controlling access to the internal state of an object. Both abstraction and encapsulation contribute to building robust, maintainable, and reusable code in OOP.'"
      ]
     },
     "execution_count": 4,
     "metadata": {},
     "output_type": "execute_result"
    }
   ],
   "source": [
    "'''Abstraction and encapsulation are two important concepts in object-oriented programming (OOP), but they serve different purposes.\n",
    "\n",
    "Abstraction focuses on providing a simplified and generalized view of an object or system by hiding unnecessary details. It allows us to define essential attributes and behaviors while ignoring the implementation specifics. Abstraction is achieved through classes and objects, where a class represents an abstract blueprint, and objects are instances of that class. An example of abstraction is a car, where users interact with its essential features like steering, accelerating, and braking, without needing to understand the internal mechanisms of the engine or transmission.\n",
    "\n",
    "Encapsulation, on the other hand, is about bundling data and methods together within a class, and controlling access to them through the use of access modifiers. It ensures that the internal state of an object is accessed and modified only through defined methods, protecting the data from unwanted external interference. Encapsulation provides data hiding and promotes data integrity. For example, in a class representing a bank account, the account balance would be a private data member, accessible only through specific methods like deposit and withdraw. This encapsulation ensures that the balance is maintained correctly and prevents direct manipulation by external code.\n",
    "\n",
    "In summary, abstraction focuses on simplifying and generalizing the view of an object or system, while encapsulation deals with bundling data and methods together and controlling their access. Abstraction is about hiding unnecessary details, while encapsulation is about protecting and controlling access to the internal state of an object. Both abstraction and encapsulation contribute to building robust, maintainable, and reusable code in OOP.'''"
   ]
  },
  {
   "cell_type": "markdown",
   "id": "369fe950-51fe-4528-afd4-fb146fbaffb6",
   "metadata": {},
   "source": [
    "# Q3. What is abc module in python? Why is it used?"
   ]
  },
  {
   "cell_type": "code",
   "execution_count": 5,
   "id": "06c76f1f-5e3e-4d63-9ceb-c2ad1569c28b",
   "metadata": {},
   "outputs": [
    {
     "data": {
      "text/plain": [
       "' The `abc` module in Python, which stands for Abstract Base Classes, provides a way to define abstract classes and interfaces. It allows you to create classes that cannot be instantiated directly but serve as templates for other classes. Abstract base classes define a common interface that subclasses must implement, ensuring consistency and adherence to a specific structure. By using the `abc` module, you can enforce code contracts, promote code reusability, and facilitate polymorphism by providing a clear blueprint for subclass implementations. It is a useful tool for building robust and maintainable object-oriented code in Python.'"
      ]
     },
     "execution_count": 5,
     "metadata": {},
     "output_type": "execute_result"
    }
   ],
   "source": [
    "''' The `abc` module in Python, which stands for Abstract Base Classes, provides a way to define abstract classes and interfaces. It allows you to create classes that cannot be instantiated directly but serve as templates for other classes. Abstract base classes define a common interface that subclasses must implement, ensuring consistency and adherence to a specific structure. By using the `abc` module, you can enforce code contracts, promote code reusability, and facilitate polymorphism by providing a clear blueprint for subclass implementations. It is a useful tool for building robust and maintainable object-oriented code in Python.'''"
   ]
  },
  {
   "cell_type": "markdown",
   "id": "930c47fc-1b57-4c97-b3b6-696b996fd46d",
   "metadata": {},
   "source": [
    "# Q4. How can we achieve data abstraction?"
   ]
  },
  {
   "cell_type": "code",
   "execution_count": 6,
   "id": "f58b449d-3591-4e57-a2de-10061abd7057",
   "metadata": {},
   "outputs": [
    {
     "data": {
      "text/plain": [
       "' Data abstraction can be achieved by using abstract data types (ADTs) and encapsulation. \\n\\nAbstract data types define the behavior and operations of data structures without exposing their internal implementation. This allows programmers to work with data structures at a higher level of abstraction, focusing on what the data structure does rather than how it is implemented.\\n\\nEncapsulation involves bundling data and related functions within a class, and controlling access to them using access modifiers. By encapsulating data, we can hide the internal details and provide controlled access through methods, ensuring data integrity and preventing unwanted external interference.\\n\\nBy combining ADTs and encapsulation, we create a simplified interface for interacting with data structures, shielding the implementation details. This promotes code modularity, reusability, and maintainability, as well as facilitating the concept of data abstraction in programming.'"
      ]
     },
     "execution_count": 6,
     "metadata": {},
     "output_type": "execute_result"
    }
   ],
   "source": [
    "''' Data abstraction can be achieved by using abstract data types (ADTs) and encapsulation. \n",
    "\n",
    "Abstract data types define the behavior and operations of data structures without exposing their internal implementation. This allows programmers to work with data structures at a higher level of abstraction, focusing on what the data structure does rather than how it is implemented.\n",
    "\n",
    "Encapsulation involves bundling data and related functions within a class, and controlling access to them using access modifiers. By encapsulating data, we can hide the internal details and provide controlled access through methods, ensuring data integrity and preventing unwanted external interference.\n",
    "\n",
    "By combining ADTs and encapsulation, we create a simplified interface for interacting with data structures, shielding the implementation details. This promotes code modularity, reusability, and maintainability, as well as facilitating the concept of data abstraction in programming.'''"
   ]
  },
  {
   "cell_type": "markdown",
   "id": "47bbcf26-d53f-4966-91be-26d243d1fd8a",
   "metadata": {},
   "source": [
    "# Q5. Can we create an instance of an abstract class? Explain your answer."
   ]
  },
  {
   "cell_type": "code",
   "execution_count": null,
   "id": "0f24c667-402c-4e7b-b450-e946dede3a8f",
   "metadata": {},
   "outputs": [],
   "source": [
    "''' No, we cannot create an instance of an abstract class in most programming languages, including Python. An abstract class is a class that is meant to be inherited from, and it serves as a blueprint for other classes. It is designed to provide a common interface and behavior that its subclasses must implement.\n",
    "\n",
    "An abstract class typically contains one or more abstract methods, which are declared but not defined in the abstract class itself. These methods are meant to be implemented by the subclasses. Since the abstract class itself is incomplete and lacks implementation details, it cannot be instantiated directly.\n",
    "\n",
    "Attempting to create an instance of an abstract class will result in an error or exception. The purpose of an abstract class is to define a contract and provide structure for its subclasses. It is the responsibility of the subclasses to implement the abstract methods and provide the necessary functionality."
   ]
  }
 ],
 "metadata": {
  "kernelspec": {
   "display_name": "Python 3 (ipykernel)",
   "language": "python",
   "name": "python3"
  },
  "language_info": {
   "codemirror_mode": {
    "name": "ipython",
    "version": 3
   },
   "file_extension": ".py",
   "mimetype": "text/x-python",
   "name": "python",
   "nbconvert_exporter": "python",
   "pygments_lexer": "ipython3",
   "version": "3.10.8"
  }
 },
 "nbformat": 4,
 "nbformat_minor": 5
}
