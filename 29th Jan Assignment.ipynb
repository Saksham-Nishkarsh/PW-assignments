{
 "cells": [
  {
   "cell_type": "markdown",
   "id": "549d783c-7f21-4c0a-b5bc-8dee409b79c0",
   "metadata": {},
   "source": [
    "# Q1 Who developed python programming language ?\n"
   ]
  },
  {
   "cell_type": "code",
   "execution_count": 14,
   "id": "d87d52fb-ba37-4e6a-988d-1ac32f464a24",
   "metadata": {},
   "outputs": [
    {
     "data": {
      "text/plain": [
       "' Python programming language was developed by Guido van Rossum. Guido van Rossum, a Dutch programmer, created Python in the late 1980s and released the first version in 1991. He designed Python with a focus on simplicity, readability, and ease of use, aiming to provide a language that emphasizes code readability and reduces the complexity of common programming tasks. Guido van Rossum led the development of Python for many years and played a significant role in its evolution and widespread adoption.'"
      ]
     },
     "execution_count": 14,
     "metadata": {},
     "output_type": "execute_result"
    }
   ],
   "source": [
    "''' Python programming language was developed by Guido van Rossum. Guido van Rossum, a Dutch programmer, created Python in the late 1980s and released the first version in 1991. He designed Python with a focus on simplicity, readability, and ease of use, aiming to provide a language that emphasizes code readability and reduces the complexity of common programming tasks. Guido van Rossum led the development of Python for many years and played a significant role in its evolution and widespread adoption.'''"
   ]
  },
  {
   "cell_type": "markdown",
   "id": "b1731e3e-c802-4bac-a1b4-1c470ed1b5d2",
   "metadata": {},
   "source": [
    "# Q2 Which Type of programming does Python Supports?"
   ]
  },
  {
   "cell_type": "code",
   "execution_count": 15,
   "id": "fd87558c-55dc-47a1-844f-8e69511928ab",
   "metadata": {},
   "outputs": [
    {
     "data": {
      "text/plain": [
       "\" Python supports the following programming paradigms:\\n\\nImperative Programming\\nObject-Oriented Programming (OOP)\\nFunctional Programming\\nProcedural Programming\\nDeclarative Programming (to some extent)\\nEvent-Driven Programming (with specific libraries) \\n\\n\\nImperative Programming: \\nPython supports imperative programming, where programs are structured around statements that change the program's state. It allows defining and executing a series of instructions in a specific order, modifying variables and controlling the flow of execution.\\n\\nObject-Oriented Programming (OOP): \\nPython has strong support for object-oriented programming. It allows creating classes, defining objects, and implementing inheritance, encapsulation, and polymorphism. Objects can have attributes (variables) and methods (functions), and the interaction between objects forms the basis of an OOP approach.\\n\\nFunctional Programming: \\nPython also supports functional programming concepts. It treats computation as the evaluation of mathematical functions and avoids changing state and mutable data. Functions in Python are first-class objects, and higher-order functions, lambda expressions, and built-in functions like map(), filter(), and reduce() facilitate functional programming paradigms.\\n\\nProcedural Programming: \\nPython supports procedural programming, where programs are organized around procedures or subroutines. It allows breaking down a program into modular functions or procedures, with each procedure performing a specific task.\\n\\nAdditionally, Python incorporates elements of other paradigms, such as:\\n\\nDeclarative Programming: \\nPython supports declarative programming to some extent. Libraries like NumPy and pandas enable declarative data manipulation and analysis, allowing users to specify what operations to perform on data without specifying how to perform them.\\n\\nEvent-Driven Programming: \\nPython can be used for event-driven programming by utilizing libraries such as Tkinter or Pygame. These libraries provide event handling mechanisms to respond to user actions or system events.\""
      ]
     },
     "execution_count": 15,
     "metadata": {},
     "output_type": "execute_result"
    }
   ],
   "source": [
    "''' Python supports the following programming paradigms:\n",
    "\n",
    "Imperative Programming\n",
    "Object-Oriented Programming (OOP)\n",
    "Functional Programming\n",
    "Procedural Programming\n",
    "Declarative Programming (to some extent)\n",
    "Event-Driven Programming (with specific libraries) \n",
    "\n",
    "\n",
    "Imperative Programming: \n",
    "Python supports imperative programming, where programs are structured around statements that change the program's state. It allows defining and executing a series of instructions in a specific order, modifying variables and controlling the flow of execution.\n",
    "\n",
    "Object-Oriented Programming (OOP): \n",
    "Python has strong support for object-oriented programming. It allows creating classes, defining objects, and implementing inheritance, encapsulation, and polymorphism. Objects can have attributes (variables) and methods (functions), and the interaction between objects forms the basis of an OOP approach.\n",
    "\n",
    "Functional Programming: \n",
    "Python also supports functional programming concepts. It treats computation as the evaluation of mathematical functions and avoids changing state and mutable data. Functions in Python are first-class objects, and higher-order functions, lambda expressions, and built-in functions like map(), filter(), and reduce() facilitate functional programming paradigms.\n",
    "\n",
    "Procedural Programming: \n",
    "Python supports procedural programming, where programs are organized around procedures or subroutines. It allows breaking down a program into modular functions or procedures, with each procedure performing a specific task.\n",
    "\n",
    "Additionally, Python incorporates elements of other paradigms, such as:\n",
    "\n",
    "Declarative Programming: \n",
    "Python supports declarative programming to some extent. Libraries like NumPy and pandas enable declarative data manipulation and analysis, allowing users to specify what operations to perform on data without specifying how to perform them.\n",
    "\n",
    "Event-Driven Programming: \n",
    "Python can be used for event-driven programming by utilizing libraries such as Tkinter or Pygame. These libraries provide event handling mechanisms to respond to user actions or system events.'''"
   ]
  },
  {
   "cell_type": "markdown",
   "id": "78ea94e6-9cb6-4826-8eb1-d54bdfbd2424",
   "metadata": {},
   "source": [
    "# Q3 Is python case sensitive when dealing with identifier ?"
   ]
  },
  {
   "cell_type": "code",
   "execution_count": 16,
   "id": "12301fce-7781-45b0-83a4-cab4d3179adb",
   "metadata": {},
   "outputs": [
    {
     "data": {
      "text/plain": [
       "' \\nYes, Python is case-sensitive when dealing with identifiers. This means that uppercase and lowercase letters are considered distinct and will be treated as separate identifiers. For example, variable and Variable would be treated as different variables in Python.'"
      ]
     },
     "execution_count": 16,
     "metadata": {},
     "output_type": "execute_result"
    }
   ],
   "source": [
    "''' \n",
    "Yes, Python is case-sensitive when dealing with identifiers. This means that uppercase and lowercase letters are considered distinct and will be treated as separate identifiers. For example, variable and Variable would be treated as different variables in Python.'''"
   ]
  },
  {
   "cell_type": "markdown",
   "id": "7f8d2f86-4da9-4452-8904-95d5b24f4dd4",
   "metadata": {},
   "source": [
    "# Q4 What is the correct extension of the python file ?"
   ]
  },
  {
   "cell_type": "code",
   "execution_count": 17,
   "id": "7ebd76a2-60f5-4989-afea-bcb8d4d18964",
   "metadata": {},
   "outputs": [
    {
     "data": {
      "text/plain": [
       "' The correct extension for a Python file is .py.'"
      ]
     },
     "execution_count": 17,
     "metadata": {},
     "output_type": "execute_result"
    }
   ],
   "source": [
    "''' The correct extension for a Python file is .py.'''"
   ]
  },
  {
   "cell_type": "markdown",
   "id": "ed8773a0-14f0-4f56-b213-9c601ade5483",
   "metadata": {},
   "source": [
    "# Q5 Is python code combined or interpreted ?"
   ]
  },
  {
   "cell_type": "markdown",
   "id": "d8d2cf1e-fe85-42fa-8acc-6dbacfc07d7b",
   "metadata": {},
   "source": [
    "''' Python code is interpreted, which means that it is executed by an interpreter without the need for explicit compilation. The interpreter reads the code line by line, converts it into machine-readable instructions, and executes them immediately. This interpretation process allows for interactive and dynamic programming, enabling developers to run and test code on-the-fly without the overhead of compiling it beforehand. '''"
   ]
  },
  {
   "cell_type": "markdown",
   "id": "24b69ad0-9b79-49b0-8352-33af536825d6",
   "metadata": {},
   "source": [
    "# Q6 Name a few blocks of code used to define in python language ?"
   ]
  },
  {
   "cell_type": "markdown",
   "id": "35f21de4-b9a7-474d-885f-cc84363db09f",
   "metadata": {},
   "source": [
    "''' In Python, code blocks are defined using indentation. Indentation serves as a way to group statements together to form a block of code. Some common blocks of code used in Python are:\n",
    "\n",
    "Function Definition Block:\n",
    "A block of code that defines a function. It starts with the def keyword followed by the function name, parameters, and a colon. The code within the function is indented under the function definition.\n",
    "\n",
    "Conditional Blocks: \n",
    "Blocks of code used for conditional execution based on certain conditions. They are typically defined using if, elif (optional), and else statements. The code block under each condition is indented.\n",
    "\n",
    "Loop Blocks: \n",
    "Blocks of code used for iterative execution. Python has different loop constructs, such as for and while loops. The code block within a loop is indented. '''"
   ]
  },
  {
   "cell_type": "markdown",
   "id": "6c14abd0-263b-4b13-9a27-50dda9cf11eb",
   "metadata": {},
   "source": [
    "# Q7 State a character used to give single-line comments in python."
   ]
  },
  {
   "cell_type": "markdown",
   "id": "aebeba28-31d0-41e4-9a05-aba6377be216",
   "metadata": {},
   "source": [
    "''' The character used to give single-line comments in Python is the hash symbol (#). Any text following the # symbol on the same line is treated as a comment and is ignored by the interpreter when executing the code. '''"
   ]
  },
  {
   "cell_type": "markdown",
   "id": "bf789cb0-2921-488b-acd2-8873b32f065d",
   "metadata": {},
   "source": [
    "# Q8 Mention functions which can help us to find the version of pyhton that we are currently working on?"
   ]
  },
  {
   "cell_type": "code",
   "execution_count": 4,
   "id": "6b67c121-9976-49f9-80a5-5757ea9c7e3f",
   "metadata": {},
   "outputs": [
    {
     "name": "stdout",
     "output_type": "stream",
     "text": [
      "3.10.8 | packaged by conda-forge | (main, Nov 22 2022, 08:26:04) [GCC 10.4.0]\n"
     ]
    }
   ],
   "source": [
    "# sys.version: This function from the sys module returns a string containing the Python version information.\n",
    "\n",
    "import sys\n",
    "\n",
    "print(sys.version)\n"
   ]
  },
  {
   "cell_type": "code",
   "execution_count": 5,
   "id": "b25d2e89-039f-4543-8de0-21bcddae826b",
   "metadata": {},
   "outputs": [
    {
     "name": "stdout",
     "output_type": "stream",
     "text": [
      "sys.version_info(major=3, minor=10, micro=8, releaselevel='final', serial=0)\n"
     ]
    }
   ],
   "source": [
    "# sys.version_info: This function returns a tuple containing the major, minor, micro, release level, and serial values of the Python version.\n",
    "\n",
    "import sys\n",
    "\n",
    "print(sys.version_info)\n"
   ]
  },
  {
   "cell_type": "code",
   "execution_count": 6,
   "id": "7ba969ad-96d7-47cd-8928-df767c46f7a5",
   "metadata": {},
   "outputs": [
    {
     "name": "stdout",
     "output_type": "stream",
     "text": [
      "3.10.8\n"
     ]
    }
   ],
   "source": [
    "# platform.python_version(): This function from the platform module returns a string representing the Python version.\n",
    "\n",
    "import platform\n",
    "\n",
    "print(platform.python_version())\n"
   ]
  },
  {
   "cell_type": "markdown",
   "id": "51a4ca48-ead2-43b5-bb97-f569b2935b2b",
   "metadata": {},
   "source": [
    "# Q9. Python supports the creation of anonymous functions at runtime, using a construct called"
   ]
  },
  {
   "cell_type": "markdown",
   "id": "e30f7156-b42d-4ac0-a82d-280faf7716f6",
   "metadata": {},
   "source": [
    "''' \n",
    "Python supports the creation of anonymous functions at runtime using a construct called \"lambda expressions\" or \"lambda functions\".'''"
   ]
  },
  {
   "cell_type": "markdown",
   "id": "385e826e-84f4-4374-83a8-4e87a3b1ea47",
   "metadata": {},
   "source": [
    "# Q10. What does pip stand for python?"
   ]
  },
  {
   "cell_type": "markdown",
   "id": "f3ff1d16-0c58-4e3f-92fd-ea8f947e26e8",
   "metadata": {},
   "source": [
    "''' PIP stands for \"Pip Installs Packages\" or sometimes referred to as \"Pip Installs Python\". It is a package management system used in Python for installing and managing software packages and libraries. PIP allows users to easily install, upgrade, and uninstall Python packages from the Python Package Index (PyPI) and other package repositories. It simplifies the process of installing and managing dependencies for Python projects, making it an essential tool for Python developers. '''"
   ]
  },
  {
   "cell_type": "markdown",
   "id": "e8fc2d49-29c4-40cd-8daa-bd795cb8cd6a",
   "metadata": {},
   "source": [
    "# Q11. Mention a few built-in functions in python?"
   ]
  },
  {
   "cell_type": "markdown",
   "id": "9c661fa7-c52f-4e56-92d2-29c7ffb8e932",
   "metadata": {},
   "source": [
    "''' Python provides several built-in functions that are readily available for use without requiring any additional imports. Here are some commonly used built-in functions in Python:\n",
    "\n",
    "print(): Used to display output on the console.\n",
    "len(): Returns the length (number of elements) of an object, such as a string, list, or tuple.\n",
    "input(): Reads input from the user via the console.\n",
    "type(): Returns the type of an object.\n",
    "range(): Generates a sequence of numbers.\n",
    "str(): Converts an object to a string representation.\n",
    "int(): Converts a number or a string to an integer.\n",
    "float(): Converts a number or a string to a floating-point number.\n",
    "list(): Creates a list object.\n",
    "tuple(): Creates a tuple object.\n",
    "dict(): Creates a dictionary object.\n",
    "max(): Returns the maximum value from a sequence or a set of arguments.\n",
    "min(): Returns the minimum value from a sequence or a set of arguments.\n",
    "sum(): Returns the sum of all elements in a sequence.\n",
    "sorted(): Returns a sorted version of a sequence.\n",
    "abs(): Returns the absolute value of a number.\n",
    "round(): Rounds a number to a specified number of decimal places. '''"
   ]
  },
  {
   "cell_type": "markdown",
   "id": "bf7449a5-78c4-49c3-98d6-28e011b5ccb3",
   "metadata": {},
   "source": [
    "# Q12. What is the maximum possible length of an identifier in Python?"
   ]
  },
  {
   "cell_type": "markdown",
   "id": "d74d7279-4333-4b31-b669-0a482b8820bf",
   "metadata": {},
   "source": [
    "''' In Python, the maximum possible length of an identifier is not explicitly defined by the language itself. However, there is a practical limit imposed by the system's memory and the programming environment. Most implementations of Python allow identifiers to be up to 255 characters long. It is worth noting that it is generally recommended to keep identifiers concise and meaningful for code readability and maintainability purposes. '''"
   ]
  },
  {
   "cell_type": "markdown",
   "id": "a7bc47a1-5c4d-4ca4-9640-09b7fa41d656",
   "metadata": {},
   "source": [
    "# Q13. What are the benefits of using Python?"
   ]
  },
  {
   "cell_type": "markdown",
   "id": "3730ff1c-2516-46f2-b866-00a732ba8aa9",
   "metadata": {},
   "source": [
    "''' Benefits of using Python:\n",
    "\n",
    "Readable and simple syntax.\n",
    "Versatility for various applications.\n",
    "Extensive standard library.\n",
    "Vast ecosystem of third-party libraries.\n",
    "Cross-platform compatibility.\n",
    "Strong community support.\n",
    "Rapid development and prototyping.\n",
    "Integration capabilities with other languages.'''"
   ]
  },
  {
   "cell_type": "markdown",
   "id": "c3d4f077-a091-4f62-8ee0-f5b227084ced",
   "metadata": {},
   "source": [
    "# Q14. How is memory managed in Python?"
   ]
  },
  {
   "cell_type": "markdown",
   "id": "7b5f0c83-0df1-42fb-9f1c-07b617d38681",
   "metadata": {},
   "source": [
    "''' In Python, memory management is handled automatically through a mechanism called \"garbage collection.\" Python uses a combination of reference counting and a cycle-detecting garbage collector to manage memory efficiently.\n",
    "\n",
    "Reference counting keeps track of the number of references to an object. Whenever an object is referenced, its reference count is incremented. When a reference to an object is no longer needed, the reference count is decremented. When the reference count reaches zero, meaning there are no more references to the object, the object is considered no longer in use and is automatically deallocated.\n",
    "\n",
    "In cases where objects reference each other in circular patterns (forming cycles), reference counting alone is not sufficient to reclaim memory. To handle these situations, Python employs a cycle-detecting garbage collector that periodically identifies and collects cyclically referenced objects.\n",
    "\n",
    "The garbage collector identifies objects that cannot be reached through any chain of references from the root objects (e.g., global variables, local variables, active objects). It then marks these objects as garbage and reclaims the memory occupied by them.\n",
    "\n",
    "Python's memory management system relieves developers from the burden of manual memory allocation and deallocation, as seen in languages like C or C++. The automatic memory management allows developers to focus more on writing code rather than managing memory explicitly.\n",
    "\n",
    "Overall, Python's memory management approach of combining reference counting with garbage collection provides efficient memory utilization and helps prevent common memory-related issues like memory leaks and dangling pointers. '''"
   ]
  },
  {
   "cell_type": "markdown",
   "id": "715dc6b9-e557-479f-bef0-094d1af27994",
   "metadata": {},
   "source": [
    "# Q15. How to install Python on Windows and set path variables?"
   ]
  },
  {
   "cell_type": "markdown",
   "id": "d94d3781-96f3-4ba7-b4a9-83a023eb5c3a",
   "metadata": {},
   "source": [
    "''' To install Python on Windows:\n",
    "\n",
    "Download the Python installer from python.org.\n",
    "Run the installer and select \"Add Python to PATH\" during installation.\n",
    "Verify installation by typing python --version in the command prompt.\n",
    "To set path variables:\n",
    "\n",
    "Open System Properties.\n",
    "Go to Environment Variables.\n",
    "Edit the PATH variable under System variables.\n",
    "Add the Python installation path.\n",
    "Save changes.\n",
    "Verify by running python in the command prompt. '''"
   ]
  },
  {
   "cell_type": "markdown",
   "id": "ddcec6b9-5fb7-42ef-a5e7-278806a428fe",
   "metadata": {},
   "source": [
    "# Q16. Is indentation required in python?"
   ]
  },
  {
   "cell_type": "markdown",
   "id": "61650417-fa58-4d92-85d9-2a40c045de69",
   "metadata": {},
   "source": [
    "''' Yes, indentation is required in Python. Indentation is used to define the structure and hierarchy of code blocks in Python. It is a fundamental part of the Python syntax and is used to indicate the beginning and end of blocks such as loops, conditional statements, and function definitions.'''"
   ]
  },
  {
   "cell_type": "code",
   "execution_count": null,
   "id": "e950fb8e-1c17-4d04-b8c3-47df7b5a7046",
   "metadata": {},
   "outputs": [],
   "source": []
  }
 ],
 "metadata": {
  "kernelspec": {
   "display_name": "Python 3 (ipykernel)",
   "language": "python",
   "name": "python3"
  },
  "language_info": {
   "codemirror_mode": {
    "name": "ipython",
    "version": 3
   },
   "file_extension": ".py",
   "mimetype": "text/x-python",
   "name": "python",
   "nbconvert_exporter": "python",
   "pygments_lexer": "ipython3",
   "version": "3.10.8"
  }
 },
 "nbformat": 4,
 "nbformat_minor": 5
}
