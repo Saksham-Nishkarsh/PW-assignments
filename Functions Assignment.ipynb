{
 "cells": [
  {
   "cell_type": "markdown",
   "id": "d33ce596-1e3c-4851-b36b-dc4d9f5e23b8",
   "metadata": {},
   "source": [
    "# Function Assignment"
   ]
  },
  {
   "cell_type": "markdown",
   "id": "afdb1f04-1926-43a1-b04d-8f7c5e16784a",
   "metadata": {},
   "source": [
    "# Q1. Which keyword is used to create a function? Create a function to return a list of odd numbers in the range of 1 to 25."
   ]
  },
  {
   "cell_type": "code",
   "execution_count": 9,
   "id": "650e191c-46e9-4f99-b43a-9154945f6169",
   "metadata": {},
   "outputs": [],
   "source": [
    "#The def keyword is used to create a function in Python.\n",
    "\n",
    "#a function to return a list of odd numbers in the range of 1 to 25.\n",
    "\n",
    "def get_odd_numbers():\n",
    "    odd_numbers = []\n",
    "    for i in range(1, 26):\n",
    "        if i % 2 != 0:\n",
    "            odd_numbers.append(i)\n",
    "    return odd_numbers\n"
   ]
  },
  {
   "cell_type": "code",
   "execution_count": 10,
   "id": "5744e2b0-170b-43fb-b68b-38e3381000ab",
   "metadata": {},
   "outputs": [
    {
     "name": "stdout",
     "output_type": "stream",
     "text": [
      "[1, 3, 5, 7, 9, 11, 13, 15, 17, 19, 21, 23, 25]\n"
     ]
    }
   ],
   "source": [
    "desired_odd_numbers = get_odd_numbers()\n",
    "print(desired_odd_numbers)"
   ]
  },
  {
   "cell_type": "markdown",
   "id": "61ae0bf5-8d15-4568-bdf5-84ec7a83ae78",
   "metadata": {},
   "source": [
    "# Q2. Why *args and **kwargs is used in some functions? Create a function each for *args and **kwargs to demonstrate their use."
   ]
  },
  {
   "cell_type": "code",
   "execution_count": 3,
   "id": "7dfa1199-9329-4baa-91d3-bf4a674e662e",
   "metadata": {},
   "outputs": [
    {
     "data": {
      "text/plain": [
       "(1, 2, 3, 'saksham', [345, 78, 98, 56, 9], (23, 87, 89))"
      ]
     },
     "execution_count": 3,
     "metadata": {},
     "output_type": "execute_result"
    }
   ],
   "source": [
    "# Ans: *args is used in a function to return any number of arguments by user or it return them in tuple form\n",
    "# and **kwargs is used in a function to return n number of orguments nut in a key value format or output of it is in dictionary format.\n",
    "\n",
    "# *args Function\n",
    "def numbers(*args):\n",
    "    return args\n",
    "\n",
    "numbers(1,2,3,\"saksham\",[345,78,98,56,9],(23,87,89))\n"
   ]
  },
  {
   "cell_type": "code",
   "execution_count": 4,
   "id": "fd5caa03-38b7-4ff7-96a5-a4dadc264171",
   "metadata": {},
   "outputs": [
    {
     "data": {
      "text/plain": [
       "{'a': 23, 'b': [2, 3, 4, 5, 6], 'c': (45, 67, 89), 'd': 'saksham'}"
      ]
     },
     "execution_count": 4,
     "metadata": {},
     "output_type": "execute_result"
    }
   ],
   "source": [
    "# **kwargs Function\n",
    "\n",
    "def dictionary(**kwargs):\n",
    "    return kwargs\n",
    "\n",
    "dictionary(a=23,b=[2,3,4,5,6],c=(45,67,89),d=\"saksham\")"
   ]
  },
  {
   "cell_type": "markdown",
   "id": "1113d912-375a-4fec-a4aa-f846aa249950",
   "metadata": {},
   "source": [
    "# Q3. What is an iterator in python? Name the method used to initialise the iterator object and the method used for iteration. Use these methods to print the first five elements of the given list [2, 4, 6, 8, 10, 12, 14,16, 18, 20]."
   ]
  },
  {
   "cell_type": "code",
   "execution_count": 5,
   "id": "55e69b21-e8a1-436a-9693-2f9f317d2268",
   "metadata": {},
   "outputs": [
    {
     "name": "stdout",
     "output_type": "stream",
     "text": [
      "2\n",
      "4\n",
      "6\n",
      "8\n",
      "10\n"
     ]
    }
   ],
   "source": [
    "'''An iterator is an object that allows you to iterate over a sequence of values, one at a time, using the built-in next() function. Iterators are used to implement sequences, such as lists, tuples, and dictionaries, and can be customized by defining the __iter__() and __next__() methods in a class.\n",
    "\n",
    "To initialize an iterator object in Python, you can use the built-in iter() function, which takes a sequence as an argument and returns an iterator object. To iterate over the sequence, you can use a loop or the built-in next() function.\n",
    "\n",
    "Here's an example of how to use an iterator to print the first five elements of the list [2, 4, 6, 8, 10, 12, 14, 16, 18, 20]:'''\n",
    "\n",
    "# initialize the iterator object\n",
    "l = [2, 4, 6, 8, 10, 12, 14, 16, 18, 20]\n",
    "x = iter(l)\n",
    "\n",
    "# use a loop to print the first five elements\n",
    "for i in range(5):\n",
    "    print(next(x))\n",
    "\n",
    "    \n",
    "#In the above code, the iter() function is used to initialize the iterator object it with the list lst. Then, a for loop is used to iterate over the first five elements of the sequence using the next() function, which retrieves the next value in the sequence each time it's called. The loop prints each value to the console."
   ]
  },
  {
   "cell_type": "markdown",
   "id": "f21149be-ade6-4246-aea7-9983e464a68c",
   "metadata": {},
   "source": [
    "# Q4. What is a generator function in python? Why yield keyword is used? Give an example of a generator function."
   ]
  },
  {
   "cell_type": "code",
   "execution_count": 2,
   "id": "7df1a397-84ae-4e4e-a523-d86b3486855a",
   "metadata": {},
   "outputs": [
    {
     "name": "stdout",
     "output_type": "stream",
     "text": [
      "10\n",
      "20\n",
      "30\n",
      "40\n",
      "50\n",
      "60\n",
      "70\n",
      "80\n",
      "90\n",
      "100\n"
     ]
    }
   ],
   "source": [
    "#In Python, a generator function is a special type of function that generates a sequence of values, often referred to as an iterator, using the yield keyword. Unlike regular functions that return a single value and then terminate, generator functions can pause their execution and resume it later, allowing them to produce a sequence of values on-the-fly without storing them in memory all at once.\n",
    "\n",
    "#The yield keyword is used in a generator function to specify the values that should be generated in the sequence. When the yield statement is encountered, the current state of the function is frozen, and the value specified by yield is returned to the caller. The function's execution is paused, and it can be resumed later from the same point to continue generating the next value.\n",
    "\n",
    "def tables(n):\n",
    "    for i in range(1,11):\n",
    "        yield i * n\n",
    "\n",
    "# Using the generator function\n",
    "generator = tables(10)\n",
    "for number in generator:\n",
    "    print(number)\n"
   ]
  },
  {
   "cell_type": "markdown",
   "id": "eb6cde40-f61e-419d-a8c8-7766d2e8fc18",
   "metadata": {},
   "source": [
    "# Q5. Create a generator function for prime numbers less than 1000. Use the next() method to print the first 20 prime numbers."
   ]
  },
  {
   "cell_type": "code",
   "execution_count": 12,
   "id": "9a0edb50-578e-4d1b-924c-1397d7ad90fb",
   "metadata": {},
   "outputs": [],
   "source": [
    "def prime_numbers():\n",
    "    yield 2 \n",
    "\n",
    "    primes = [2] \n",
    "    current_number = 3  \n",
    "\n",
    "    while current_number < 1000:\n",
    "        is_prime = True\n",
    "        \n",
    "        for p in primes:\n",
    "            if current_number % p == 0:\n",
    "                is_prime = False\n",
    "                break\n",
    "\n",
    "        if is_prime == True:\n",
    "            primes.append(current_number)\n",
    "            yield current_number\n",
    "\n",
    "        current_number = current_number + 2"
   ]
  },
  {
   "cell_type": "code",
   "execution_count": 13,
   "id": "dd72519a-7bc5-48e7-aa2d-de93b16638da",
   "metadata": {},
   "outputs": [],
   "source": [
    "generator = prime_numbers()"
   ]
  },
  {
   "cell_type": "code",
   "execution_count": 14,
   "id": "b0a17482-ed6c-4e99-ad77-811fc34b28c3",
   "metadata": {},
   "outputs": [
    {
     "name": "stdout",
     "output_type": "stream",
     "text": [
      "2\n",
      "3\n",
      "5\n",
      "7\n",
      "11\n",
      "13\n",
      "17\n",
      "19\n",
      "23\n",
      "29\n",
      "31\n",
      "37\n",
      "41\n",
      "43\n",
      "47\n",
      "53\n",
      "59\n",
      "61\n",
      "67\n",
      "71\n"
     ]
    }
   ],
   "source": [
    "for _ in range(20):\n",
    "    prime = next(generator)\n",
    "    print(prime)"
   ]
  },
  {
   "cell_type": "markdown",
   "id": "ea49a50a-71f9-4ee7-b690-674117cc8d03",
   "metadata": {},
   "source": [
    "# Q6. Write a python program to print the first 10 Fibonacci numbers using a while loop."
   ]
  },
  {
   "cell_type": "code",
   "execution_count": 6,
   "id": "b32501c2-eff8-4688-ba7b-d54f4229efce",
   "metadata": {},
   "outputs": [
    {
     "name": "stdout",
     "output_type": "stream",
     "text": [
      "0\n",
      "1\n",
      "1\n",
      "2\n",
      "3\n",
      "5\n",
      "8\n",
      "13\n",
      "21\n",
      "34\n"
     ]
    }
   ],
   "source": [
    "a = 0\n",
    "b = 1\n",
    "print(a)\n",
    "print(b)\n",
    "\n",
    "i = 0\n",
    "while i < 8:\n",
    "    c = a + b\n",
    "    print(c)\n",
    "    \n",
    "    a, b = b, c\n",
    "    \n",
    "    i += 1\n",
    "    "
   ]
  },
  {
   "cell_type": "markdown",
   "id": "83772503-e055-45d7-b119-82534c601eb2",
   "metadata": {},
   "source": [
    "# Q7. Write a List Comprehension to iterate through the given string: ‘pwskills’. Expected output: ['p', 'w', 's', 'k', 'i', 'l', 'l', 's']"
   ]
  },
  {
   "cell_type": "code",
   "execution_count": 1,
   "id": "09939782-dc95-4946-9120-3438d2aebeb9",
   "metadata": {},
   "outputs": [
    {
     "data": {
      "text/plain": [
       "['p', 'w', 's', 'k', 'i', 'l', 'l', 's']"
      ]
     },
     "execution_count": 1,
     "metadata": {},
     "output_type": "execute_result"
    }
   ],
   "source": [
    "s = 'pwskills'\n",
    "\n",
    "[i for i in s]"
   ]
  },
  {
   "cell_type": "markdown",
   "id": "917cd849-31dc-4205-b43c-017cb30f77a8",
   "metadata": {},
   "source": [
    "# Q8. Write a python program to check whether a given number is Palindrome or not using a while loop."
   ]
  },
  {
   "cell_type": "code",
   "execution_count": 3,
   "id": "061a3c99-f8ed-46d0-bc32-1ff9cb7529b9",
   "metadata": {},
   "outputs": [
    {
     "name": "stdin",
     "output_type": "stream",
     "text": [
      "Enter a number: 12321\n"
     ]
    },
    {
     "name": "stdout",
     "output_type": "stream",
     "text": [
      "The number is palindrome!\n"
     ]
    }
   ],
   "source": [
    "num = int(input(\"Enter a number:\"))\n",
    "x = num\n",
    "reverse = 0\n",
    "while num>0:\n",
    "    digit = num%10\n",
    "    reverse = reverse*10 + digit\n",
    "    num = num//10\n",
    "if(x == reverse):\n",
    "    print(\"The number is palindrome!\")\n",
    "else:\n",
    "    print(\"Not a palindrome!\")  "
   ]
  },
  {
   "cell_type": "markdown",
   "id": "51611dd9-acdb-4417-a560-1636952cd2f4",
   "metadata": {},
   "source": [
    "# Q9. Write a code to print odd numbers from 1 to 100 using list comprehension."
   ]
  },
  {
   "cell_type": "code",
   "execution_count": 7,
   "id": "d987684e-7772-4e60-90ee-a1e872e140d4",
   "metadata": {},
   "outputs": [],
   "source": [
    "l = [ i for i in range(1,101)]"
   ]
  },
  {
   "cell_type": "code",
   "execution_count": 8,
   "id": "e95541ff-723d-441a-b26a-de001534cffe",
   "metadata": {},
   "outputs": [
    {
     "data": {
      "text/plain": [
       "[1,\n",
       " 3,\n",
       " 5,\n",
       " 7,\n",
       " 9,\n",
       " 11,\n",
       " 13,\n",
       " 15,\n",
       " 17,\n",
       " 19,\n",
       " 21,\n",
       " 23,\n",
       " 25,\n",
       " 27,\n",
       " 29,\n",
       " 31,\n",
       " 33,\n",
       " 35,\n",
       " 37,\n",
       " 39,\n",
       " 41,\n",
       " 43,\n",
       " 45,\n",
       " 47,\n",
       " 49,\n",
       " 51,\n",
       " 53,\n",
       " 55,\n",
       " 57,\n",
       " 59,\n",
       " 61,\n",
       " 63,\n",
       " 65,\n",
       " 67,\n",
       " 69,\n",
       " 71,\n",
       " 73,\n",
       " 75,\n",
       " 77,\n",
       " 79,\n",
       " 81,\n",
       " 83,\n",
       " 85,\n",
       " 87,\n",
       " 89,\n",
       " 91,\n",
       " 93,\n",
       " 95,\n",
       " 97,\n",
       " 99]"
      ]
     },
     "execution_count": 8,
     "metadata": {},
     "output_type": "execute_result"
    }
   ],
   "source": [
    "[ i for i in l if i % 2 != 0]"
   ]
  },
  {
   "cell_type": "code",
   "execution_count": null,
   "id": "c1e944a8-1f94-4538-b4f1-94a9eaa3155e",
   "metadata": {},
   "outputs": [],
   "source": []
  }
 ],
 "metadata": {
  "kernelspec": {
   "display_name": "Python 3 (ipykernel)",
   "language": "python",
   "name": "python3"
  },
  "language_info": {
   "codemirror_mode": {
    "name": "ipython",
    "version": 3
   },
   "file_extension": ".py",
   "mimetype": "text/x-python",
   "name": "python",
   "nbconvert_exporter": "python",
   "pygments_lexer": "ipython3",
   "version": "3.10.8"
  }
 },
 "nbformat": 4,
 "nbformat_minor": 5
}
