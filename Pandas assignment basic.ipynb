{
 "cells": [
  {
   "cell_type": "markdown",
   "id": "ecb7a403-7a3e-4f75-8b51-dad6a3b98a03",
   "metadata": {},
   "source": [
    "# Q1. Create a Pandas Series that contains the following data: 4, 8, 15, 16, 23, and 42. Then, print the series."
   ]
  },
  {
   "cell_type": "code",
   "execution_count": 1,
   "id": "1409775e-50b4-4a0d-a041-043555faccdf",
   "metadata": {},
   "outputs": [],
   "source": [
    "import pandas as pd"
   ]
  },
  {
   "cell_type": "code",
   "execution_count": 3,
   "id": "79f9d9ae-cac0-43b0-a015-871ae63b1861",
   "metadata": {},
   "outputs": [
    {
     "data": {
      "text/plain": [
       "0     4\n",
       "1     8\n",
       "2    15\n",
       "3    16\n",
       "4    23\n",
       "5    42\n",
       "dtype: int64"
      ]
     },
     "execution_count": 3,
     "metadata": {},
     "output_type": "execute_result"
    }
   ],
   "source": [
    "s = pd.Series([4,8,15,16,23,42])\n",
    "s"
   ]
  },
  {
   "cell_type": "code",
   "execution_count": 4,
   "id": "c2721e9a-7be9-48bd-b0d1-05430bbc8065",
   "metadata": {},
   "outputs": [
    {
     "data": {
      "text/plain": [
       "pandas.core.series.Series"
      ]
     },
     "execution_count": 4,
     "metadata": {},
     "output_type": "execute_result"
    }
   ],
   "source": [
    "type(s)"
   ]
  },
  {
   "cell_type": "markdown",
   "id": "891a35a3-ea32-47dc-a016-423cba327ae1",
   "metadata": {},
   "source": [
    "# Q2. Create a variable of list type containing 10 elements in it, and apply pandas.Series function on the variable print it."
   ]
  },
  {
   "cell_type": "code",
   "execution_count": 5,
   "id": "6983787b-18fb-40db-9162-13b1ec00c6af",
   "metadata": {},
   "outputs": [],
   "source": [
    "l = [1,2,3,4,5,6,6,7,8,9]"
   ]
  },
  {
   "cell_type": "code",
   "execution_count": 6,
   "id": "b4041719-5bd3-40fa-888f-cd5ccefbdd58",
   "metadata": {},
   "outputs": [
    {
     "data": {
      "text/plain": [
       "list"
      ]
     },
     "execution_count": 6,
     "metadata": {},
     "output_type": "execute_result"
    }
   ],
   "source": [
    "type(l)"
   ]
  },
  {
   "cell_type": "code",
   "execution_count": 8,
   "id": "4819c0d2-cbab-47e2-9605-549c845da01b",
   "metadata": {},
   "outputs": [
    {
     "data": {
      "text/plain": [
       "0    1\n",
       "1    2\n",
       "2    3\n",
       "3    4\n",
       "4    5\n",
       "5    6\n",
       "6    6\n",
       "7    7\n",
       "8    8\n",
       "9    9\n",
       "dtype: int64"
      ]
     },
     "execution_count": 8,
     "metadata": {},
     "output_type": "execute_result"
    }
   ],
   "source": [
    "s = pd.Series(l)\n",
    "s"
   ]
  },
  {
   "cell_type": "code",
   "execution_count": 9,
   "id": "109631e8-5ef0-43ca-b729-45d91593552f",
   "metadata": {},
   "outputs": [
    {
     "data": {
      "text/plain": [
       "pandas.core.series.Series"
      ]
     },
     "execution_count": 9,
     "metadata": {},
     "output_type": "execute_result"
    }
   ],
   "source": [
    "type(s)"
   ]
  },
  {
   "cell_type": "markdown",
   "id": "2bfd3d29-3445-4fa2-8690-18572639b484",
   "metadata": {},
   "source": [
    "# Q3. Create a Pandas DataFrame that contains the following data: Then, print the DataFrame."
   ]
  },
  {
   "cell_type": "code",
   "execution_count": 10,
   "id": "84401ac1-6063-4204-820c-a26ed5e536de",
   "metadata": {},
   "outputs": [],
   "source": [
    "d = {'Name' : [\"Alice\", \"Bob\", \"Claire\"],\n",
    "     'Age' : [25,30,27],\n",
    "     'Gender' : [\"Female\", \"Male\", \"Female\"]}"
   ]
  },
  {
   "cell_type": "code",
   "execution_count": 12,
   "id": "3ddc62a1-5141-41b3-9721-3a04f6e04df9",
   "metadata": {},
   "outputs": [
    {
     "data": {
      "text/plain": [
       "dict"
      ]
     },
     "execution_count": 12,
     "metadata": {},
     "output_type": "execute_result"
    }
   ],
   "source": [
    "type(d)"
   ]
  },
  {
   "cell_type": "code",
   "execution_count": 13,
   "id": "612b3932-70f1-4e97-9d88-6837c6175394",
   "metadata": {},
   "outputs": [
    {
     "data": {
      "text/html": [
       "<div>\n",
       "<style scoped>\n",
       "    .dataframe tbody tr th:only-of-type {\n",
       "        vertical-align: middle;\n",
       "    }\n",
       "\n",
       "    .dataframe tbody tr th {\n",
       "        vertical-align: top;\n",
       "    }\n",
       "\n",
       "    .dataframe thead th {\n",
       "        text-align: right;\n",
       "    }\n",
       "</style>\n",
       "<table border=\"1\" class=\"dataframe\">\n",
       "  <thead>\n",
       "    <tr style=\"text-align: right;\">\n",
       "      <th></th>\n",
       "      <th>Name</th>\n",
       "      <th>Age</th>\n",
       "      <th>Gender</th>\n",
       "    </tr>\n",
       "  </thead>\n",
       "  <tbody>\n",
       "    <tr>\n",
       "      <th>0</th>\n",
       "      <td>Alice</td>\n",
       "      <td>25</td>\n",
       "      <td>Female</td>\n",
       "    </tr>\n",
       "    <tr>\n",
       "      <th>1</th>\n",
       "      <td>Bob</td>\n",
       "      <td>30</td>\n",
       "      <td>Male</td>\n",
       "    </tr>\n",
       "    <tr>\n",
       "      <th>2</th>\n",
       "      <td>Claire</td>\n",
       "      <td>27</td>\n",
       "      <td>Female</td>\n",
       "    </tr>\n",
       "  </tbody>\n",
       "</table>\n",
       "</div>"
      ],
      "text/plain": [
       "     Name  Age  Gender\n",
       "0   Alice   25  Female\n",
       "1     Bob   30    Male\n",
       "2  Claire   27  Female"
      ]
     },
     "execution_count": 13,
     "metadata": {},
     "output_type": "execute_result"
    }
   ],
   "source": [
    "df = pd.DataFrame(d)\n",
    "df"
   ]
  },
  {
   "cell_type": "code",
   "execution_count": 14,
   "id": "fe4cb201-975e-445c-a6f8-f2e5f9c9af86",
   "metadata": {},
   "outputs": [
    {
     "data": {
      "text/plain": [
       "pandas.core.frame.DataFrame"
      ]
     },
     "execution_count": 14,
     "metadata": {},
     "output_type": "execute_result"
    }
   ],
   "source": [
    "type(df)"
   ]
  },
  {
   "cell_type": "markdown",
   "id": "6d52d82d-19c1-48b3-a847-bbddb4661e74",
   "metadata": {},
   "source": [
    "# Q4. What is ‘DataFrame’ in pandas and how is it different from pandas.series? Explain with an example."
   ]
  },
  {
   "cell_type": "code",
   "execution_count": 15,
   "id": "bd0d7b2f-b62f-42bb-9f33-ee90368fb8ae",
   "metadata": {},
   "outputs": [],
   "source": [
    "# A DataFrame is a powerful data structure as it allows for easy manipulation, analysis, and cleaning of data. It provides various methods and functions to perform operations on the data, such as filtering, grouping, merging, and transforming.\n",
    "\n",
    "# On the other hand, a pandas Series is a one-dimensional array-like object that can store data of any type, such as integers, floats, strings, or even Python objects. It is similar to a column in a DataFrame but does not have the tabular structure. A Series has both values and labels, where each value corresponds to a specific label or index.\n",
    "\n"
   ]
  },
  {
   "cell_type": "code",
   "execution_count": 16,
   "id": "860dc55b-24c8-4c98-9ce0-d80640cbe8df",
   "metadata": {},
   "outputs": [
    {
     "name": "stdout",
     "output_type": "stream",
     "text": [
      "0     Apple\n",
      "1    Banana\n",
      "2    Orange\n",
      "3     Mango\n",
      "dtype: object\n"
     ]
    }
   ],
   "source": [
    "fruits = pd.Series(['Apple', 'Banana', 'Orange', 'Mango'])\n",
    "print(fruits)"
   ]
  },
  {
   "cell_type": "code",
   "execution_count": 17,
   "id": "fdfc6673-4b9b-4923-9d32-34a3baf4c960",
   "metadata": {},
   "outputs": [
    {
     "name": "stdout",
     "output_type": "stream",
     "text": [
      "    Fruit   Color  Quantity\n",
      "0   Apple     Red         5\n",
      "1  Banana  Yellow         3\n",
      "2  Orange  Orange         2\n",
      "3   Mango   Green         4\n"
     ]
    }
   ],
   "source": [
    "data = {'Fruit': ['Apple', 'Banana', 'Orange', 'Mango'],\n",
    "        'Color': ['Red', 'Yellow', 'Orange', 'Green'],\n",
    "        'Quantity': [5, 3, 2, 4]}\n",
    "df = pd.DataFrame(data)\n",
    "print(df)"
   ]
  },
  {
   "cell_type": "markdown",
   "id": "c65ad522-ee9c-44a4-b352-9aaf2f4e53aa",
   "metadata": {},
   "source": [
    "# Q5. What are some common functions you can use to manipulate data in a Pandas DataFrame? Can you give an example of when you might use one of these functions?"
   ]
  },
  {
   "cell_type": "code",
   "execution_count": 18,
   "id": "78bcbd39-c533-4399-928c-4ec5986bab7d",
   "metadata": {},
   "outputs": [],
   "source": [
    "# Pandas provides a wide range of functions to manipulate and transform data in a DataFrame. Here are some common functions:\n",
    "\n",
    "# head(): Returns the first n rows of the DataFrame. It is useful to quickly inspect the data and get a glimpse of its structure.\n",
    "\n",
    "# tail(): Returns the last n rows of the DataFrame. It is useful to quickly check the end of the data.\n",
    "\n",
    "# describe(): Generates descriptive statistics of the numerical columns in the DataFrame, such as count, mean, standard deviation, minimum, maximum, and quartile values.\n",
    "\n",
    "# shape: Returns the dimensions of the DataFrame as a tuple (rows, columns). It is useful to know the size of the dataset.\n",
    "\n",
    "# drop(): Removes specified rows or columns from the DataFrame. It is useful for data cleaning or when you want to exclude certain data from analysis.\n",
    "\n",
    "# sort_values(): Sorts the DataFrame by one or more columns. It is useful to arrange the data in a particular order for analysis.\n",
    "\n",
    "# groupby(): Groups the DataFrame by one or more columns, allowing aggregation or transformation operations on the grouped data.\n"
   ]
  },
  {
   "cell_type": "markdown",
   "id": "03e8df66-a008-46ab-ae99-c7730a72fce9",
   "metadata": {},
   "source": [
    "# Q6. Which of the following is mutable in nature Series, DataFrame, Panel?"
   ]
  },
  {
   "cell_type": "code",
   "execution_count": 19,
   "id": "d93a8b55-ed10-4dcf-a212-66ff9e53830a",
   "metadata": {},
   "outputs": [],
   "source": [
    "# In pandas, both Series and DataFrame are mutable in nature, meaning their values can be modified after they are created. On the other hand, the Panel data structure has been deprecated."
   ]
  },
  {
   "cell_type": "markdown",
   "id": "ff32e05e-8249-433d-903a-73844809ad5e",
   "metadata": {},
   "source": [
    "# Q7. Create a DataFrame using multiple Series. Explain with an example."
   ]
  },
  {
   "cell_type": "code",
   "execution_count": 20,
   "id": "b3ea5f40-7008-47b4-b371-2fa14dfc3d49",
   "metadata": {},
   "outputs": [
    {
     "data": {
      "text/html": [
       "<div>\n",
       "<style scoped>\n",
       "    .dataframe tbody tr th:only-of-type {\n",
       "        vertical-align: middle;\n",
       "    }\n",
       "\n",
       "    .dataframe tbody tr th {\n",
       "        vertical-align: top;\n",
       "    }\n",
       "\n",
       "    .dataframe thead th {\n",
       "        text-align: right;\n",
       "    }\n",
       "</style>\n",
       "<table border=\"1\" class=\"dataframe\">\n",
       "  <thead>\n",
       "    <tr style=\"text-align: right;\">\n",
       "      <th></th>\n",
       "      <th>Name</th>\n",
       "      <th>Age</th>\n",
       "      <th>City</th>\n",
       "    </tr>\n",
       "  </thead>\n",
       "  <tbody>\n",
       "    <tr>\n",
       "      <th>0</th>\n",
       "      <td>John</td>\n",
       "      <td>25</td>\n",
       "      <td>New York</td>\n",
       "    </tr>\n",
       "    <tr>\n",
       "      <th>1</th>\n",
       "      <td>Emma</td>\n",
       "      <td>28</td>\n",
       "      <td>London</td>\n",
       "    </tr>\n",
       "    <tr>\n",
       "      <th>2</th>\n",
       "      <td>Michael</td>\n",
       "      <td>32</td>\n",
       "      <td>Sydney</td>\n",
       "    </tr>\n",
       "  </tbody>\n",
       "</table>\n",
       "</div>"
      ],
      "text/plain": [
       "      Name  Age      City\n",
       "0     John   25  New York\n",
       "1     Emma   28    London\n",
       "2  Michael   32    Sydney"
      ]
     },
     "execution_count": 20,
     "metadata": {},
     "output_type": "execute_result"
    }
   ],
   "source": [
    "import pandas as pd\n",
    "\n",
    "name = pd.Series(['John', 'Emma', 'Michael'])\n",
    "age = pd.Series([25, 28, 32])\n",
    "city = pd.Series(['New York', 'London', 'Sydney'])\n",
    "\n",
    "\n",
    "data = {'Name': name, 'Age': age, 'City': city}\n",
    "df = pd.DataFrame(data)\n",
    "\n",
    "\n",
    "df\n"
   ]
  },
  {
   "cell_type": "code",
   "execution_count": null,
   "id": "29a08c9d-2490-463c-81b6-b2a9fa6507bf",
   "metadata": {},
   "outputs": [],
   "source": []
  }
 ],
 "metadata": {
  "kernelspec": {
   "display_name": "Python 3 (ipykernel)",
   "language": "python",
   "name": "python3"
  },
  "language_info": {
   "codemirror_mode": {
    "name": "ipython",
    "version": 3
   },
   "file_extension": ".py",
   "mimetype": "text/x-python",
   "name": "python",
   "nbconvert_exporter": "python",
   "pygments_lexer": "ipython3",
   "version": "3.10.8"
  }
 },
 "nbformat": 4,
 "nbformat_minor": 5
}
